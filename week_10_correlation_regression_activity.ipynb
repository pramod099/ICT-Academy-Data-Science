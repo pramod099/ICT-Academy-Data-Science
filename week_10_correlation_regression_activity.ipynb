{
 "cells": [
  {
   "cell_type": "code",
   "execution_count": 1,
   "id": "87c1835c",
   "metadata": {},
   "outputs": [],
   "source": [
    "# Importing necessary libraries\n",
    "import pandas as pd\n",
    "import numpy as np\n",
    "import matplotlib.pyplot as plt\n",
    "import seaborn as sns\n",
    "import warnings\n",
    "warnings.filterwarnings(\"ignore\")"
   ]
  },
  {
   "cell_type": "markdown",
   "id": "ef5c419d",
   "metadata": {},
   "source": [
    "### 1. Read the data into python"
   ]
  },
  {
   "cell_type": "code",
   "execution_count": 2,
   "id": "d905887a",
   "metadata": {},
   "outputs": [
    {
     "data": {
      "text/html": [
       "<div>\n",
       "<style scoped>\n",
       "    .dataframe tbody tr th:only-of-type {\n",
       "        vertical-align: middle;\n",
       "    }\n",
       "\n",
       "    .dataframe tbody tr th {\n",
       "        vertical-align: top;\n",
       "    }\n",
       "\n",
       "    .dataframe thead th {\n",
       "        text-align: right;\n",
       "    }\n",
       "</style>\n",
       "<table border=\"1\" class=\"dataframe\">\n",
       "  <thead>\n",
       "    <tr style=\"text-align: right;\">\n",
       "      <th></th>\n",
       "      <th>ph</th>\n",
       "      <th>Hardness</th>\n",
       "      <th>Solids</th>\n",
       "      <th>Chloramines</th>\n",
       "      <th>Sulfate</th>\n",
       "      <th>Conductivity</th>\n",
       "      <th>Organic_carbon</th>\n",
       "      <th>Trihalomethanes</th>\n",
       "      <th>Turbidity</th>\n",
       "    </tr>\n",
       "  </thead>\n",
       "  <tbody>\n",
       "    <tr>\n",
       "      <th>0</th>\n",
       "      <td>8.316766</td>\n",
       "      <td>214.373394</td>\n",
       "      <td>22018.41744</td>\n",
       "      <td>8.059332</td>\n",
       "      <td>356.886136</td>\n",
       "      <td>363.266516</td>\n",
       "      <td>18.436525</td>\n",
       "      <td>100.341674</td>\n",
       "      <td>4.628771</td>\n",
       "    </tr>\n",
       "    <tr>\n",
       "      <th>1</th>\n",
       "      <td>9.092223</td>\n",
       "      <td>181.101509</td>\n",
       "      <td>17978.98634</td>\n",
       "      <td>6.546600</td>\n",
       "      <td>310.135738</td>\n",
       "      <td>398.410813</td>\n",
       "      <td>11.558279</td>\n",
       "      <td>31.997993</td>\n",
       "      <td>4.075075</td>\n",
       "    </tr>\n",
       "    <tr>\n",
       "      <th>2</th>\n",
       "      <td>5.584087</td>\n",
       "      <td>188.313324</td>\n",
       "      <td>28748.68774</td>\n",
       "      <td>7.544869</td>\n",
       "      <td>326.678363</td>\n",
       "      <td>280.467916</td>\n",
       "      <td>8.399735</td>\n",
       "      <td>54.917862</td>\n",
       "      <td>2.559708</td>\n",
       "    </tr>\n",
       "    <tr>\n",
       "      <th>3</th>\n",
       "      <td>10.223862</td>\n",
       "      <td>248.071735</td>\n",
       "      <td>28749.71654</td>\n",
       "      <td>7.513408</td>\n",
       "      <td>393.663395</td>\n",
       "      <td>283.651634</td>\n",
       "      <td>13.789695</td>\n",
       "      <td>84.603556</td>\n",
       "      <td>2.672989</td>\n",
       "    </tr>\n",
       "    <tr>\n",
       "      <th>4</th>\n",
       "      <td>8.635849</td>\n",
       "      <td>203.361523</td>\n",
       "      <td>13672.09176</td>\n",
       "      <td>4.563009</td>\n",
       "      <td>303.309771</td>\n",
       "      <td>474.607645</td>\n",
       "      <td>12.363817</td>\n",
       "      <td>62.798309</td>\n",
       "      <td>4.401425</td>\n",
       "    </tr>\n",
       "  </tbody>\n",
       "</table>\n",
       "</div>"
      ],
      "text/plain": [
       "          ph    Hardness       Solids  Chloramines     Sulfate  Conductivity  \\\n",
       "0   8.316766  214.373394  22018.41744     8.059332  356.886136    363.266516   \n",
       "1   9.092223  181.101509  17978.98634     6.546600  310.135738    398.410813   \n",
       "2   5.584087  188.313324  28748.68774     7.544869  326.678363    280.467916   \n",
       "3  10.223862  248.071735  28749.71654     7.513408  393.663395    283.651634   \n",
       "4   8.635849  203.361523  13672.09176     4.563009  303.309771    474.607645   \n",
       "\n",
       "   Organic_carbon  Trihalomethanes  Turbidity  \n",
       "0       18.436525       100.341674   4.628771  \n",
       "1       11.558279        31.997993   4.075075  \n",
       "2        8.399735        54.917862   2.559708  \n",
       "3       13.789695        84.603556   2.672989  \n",
       "4       12.363817        62.798309   4.401425  "
      ]
     },
     "execution_count": 2,
     "metadata": {},
     "output_type": "execute_result"
    }
   ],
   "source": [
    "# Read the dataset\n",
    "data = pd.read_csv('week10.csv')\n",
    "data.head()"
   ]
  },
  {
   "cell_type": "code",
   "execution_count": 3,
   "id": "3899b9a5",
   "metadata": {},
   "outputs": [
    {
     "data": {
      "text/plain": [
       "(2011, 9)"
      ]
     },
     "execution_count": 3,
     "metadata": {},
     "output_type": "execute_result"
    }
   ],
   "source": [
    "# Displaying no. of rows and columns in the dataset\n",
    "data.shape"
   ]
  },
  {
   "cell_type": "markdown",
   "id": "4ca512a3",
   "metadata": {},
   "source": [
    "### 2. Check for null values"
   ]
  },
  {
   "cell_type": "code",
   "execution_count": 4,
   "id": "22b4c75e",
   "metadata": {},
   "outputs": [
    {
     "data": {
      "text/plain": [
       "ph                 0\n",
       "Hardness           0\n",
       "Solids             0\n",
       "Chloramines        0\n",
       "Sulfate            0\n",
       "Conductivity       0\n",
       "Organic_carbon     0\n",
       "Trihalomethanes    0\n",
       "Turbidity          0\n",
       "dtype: int64"
      ]
     },
     "execution_count": 4,
     "metadata": {},
     "output_type": "execute_result"
    }
   ],
   "source": [
    "# Check the null values using isnull() function \n",
    "data.isnull().sum()"
   ]
  },
  {
   "cell_type": "markdown",
   "id": "50c7b996",
   "metadata": {},
   "source": [
    "Inference\n",
    "\n",
    "No null values are found."
   ]
  },
  {
   "cell_type": "markdown",
   "id": "e2353bc5",
   "metadata": {},
   "source": [
    "### 3. Examine the variables ‘Hardness’, ‘Sulfate’, and ‘Organic_carbon’ and comment on your observations."
   ]
  },
  {
   "cell_type": "code",
   "execution_count": 6,
   "id": "ec3ea784",
   "metadata": {},
   "outputs": [
    {
     "data": {
      "text/html": [
       "<div>\n",
       "<style scoped>\n",
       "    .dataframe tbody tr th:only-of-type {\n",
       "        vertical-align: middle;\n",
       "    }\n",
       "\n",
       "    .dataframe tbody tr th {\n",
       "        vertical-align: top;\n",
       "    }\n",
       "\n",
       "    .dataframe thead th {\n",
       "        text-align: right;\n",
       "    }\n",
       "</style>\n",
       "<table border=\"1\" class=\"dataframe\">\n",
       "  <thead>\n",
       "    <tr style=\"text-align: right;\">\n",
       "      <th></th>\n",
       "      <th>Hardness</th>\n",
       "      <th>Sulfate</th>\n",
       "      <th>Organic_carbon</th>\n",
       "    </tr>\n",
       "  </thead>\n",
       "  <tbody>\n",
       "    <tr>\n",
       "      <th>count</th>\n",
       "      <td>2011.000000</td>\n",
       "      <td>2011.000000</td>\n",
       "      <td>2011.000000</td>\n",
       "    </tr>\n",
       "    <tr>\n",
       "      <th>mean</th>\n",
       "      <td>195.968072</td>\n",
       "      <td>333.224672</td>\n",
       "      <td>14.357709</td>\n",
       "    </tr>\n",
       "    <tr>\n",
       "      <th>std</th>\n",
       "      <td>32.635085</td>\n",
       "      <td>41.205172</td>\n",
       "      <td>3.324959</td>\n",
       "    </tr>\n",
       "    <tr>\n",
       "      <th>min</th>\n",
       "      <td>73.492234</td>\n",
       "      <td>129.000000</td>\n",
       "      <td>2.200000</td>\n",
       "    </tr>\n",
       "    <tr>\n",
       "      <th>25%</th>\n",
       "      <td>176.744938</td>\n",
       "      <td>307.632511</td>\n",
       "      <td>12.124105</td>\n",
       "    </tr>\n",
       "    <tr>\n",
       "      <th>50%</th>\n",
       "      <td>197.191839</td>\n",
       "      <td>332.232177</td>\n",
       "      <td>14.322019</td>\n",
       "    </tr>\n",
       "    <tr>\n",
       "      <th>75%</th>\n",
       "      <td>216.441070</td>\n",
       "      <td>359.330555</td>\n",
       "      <td>16.683049</td>\n",
       "    </tr>\n",
       "    <tr>\n",
       "      <th>max</th>\n",
       "      <td>317.338124</td>\n",
       "      <td>481.030642</td>\n",
       "      <td>27.006707</td>\n",
       "    </tr>\n",
       "  </tbody>\n",
       "</table>\n",
       "</div>"
      ],
      "text/plain": [
       "          Hardness      Sulfate  Organic_carbon\n",
       "count  2011.000000  2011.000000     2011.000000\n",
       "mean    195.968072   333.224672       14.357709\n",
       "std      32.635085    41.205172        3.324959\n",
       "min      73.492234   129.000000        2.200000\n",
       "25%     176.744938   307.632511       12.124105\n",
       "50%     197.191839   332.232177       14.322019\n",
       "75%     216.441070   359.330555       16.683049\n",
       "max     317.338124   481.030642       27.006707"
      ]
     },
     "execution_count": 6,
     "metadata": {},
     "output_type": "execute_result"
    }
   ],
   "source": [
    "data[['Hardness','Sulfate', 'Organic_carbon']].describe()"
   ]
  },
  {
   "cell_type": "code",
   "execution_count": 7,
   "id": "91e3dd41",
   "metadata": {},
   "outputs": [
    {
     "data": {
      "text/plain": [
       "array([[<AxesSubplot:title={'center':'Hardness'}>,\n",
       "        <AxesSubplot:title={'center':'Sulfate'}>],\n",
       "       [<AxesSubplot:title={'center':'Organic_carbon'}>, <AxesSubplot:>]],\n",
       "      dtype=object)"
      ]
     },
     "execution_count": 7,
     "metadata": {},
     "output_type": "execute_result"
    },
    {
     "data": {
      "image/png": "[encoded data removed]",
      "text/plain": [
       "<Figure size 1152x576 with 4 Axes>"
      ]
     },
     "metadata": {
      "needs_background": "light"
     },
     "output_type": "display_data"
    }
   ],
   "source": [
    "x= data[['Hardness','Sulfate', 'Organic_carbon']]\n",
    "x.hist(figsize=(16,8))"
   ]
  },
  {
   "cell_type": "markdown",
   "id": "41a2fde4",
   "metadata": {},
   "source": [
    "Inferences\n",
    "\n",
    "Variables Hardness, Sulfate and Organic carbon are normally distributed.\n",
    "Mean values of the variables:\n",
    "\n",
    "Hardness= 195.97, Sulfate= 333.22, Organic Carbon= 14.36"
   ]
  },
  {
   "cell_type": "markdown",
   "id": "d821cb5b",
   "metadata": {},
   "source": [
    "# 4. Carry out correlation analysis on the dataset and find the correlation factor between\n",
    "\n",
    "#### a. ph and Chloramines\n",
    "#### b. ph and Conductivity\n",
    "#### What do we infer from this correlation value?"
   ]
  },
  {
   "cell_type": "code",
   "execution_count": 8,
   "id": "6d583e08",
   "metadata": {},
   "outputs": [
    {
     "data": {
      "text/html": [
       "<div>\n",
       "<style scoped>\n",
       "    .dataframe tbody tr th:only-of-type {\n",
       "        vertical-align: middle;\n",
       "    }\n",
       "\n",
       "    .dataframe tbody tr th {\n",
       "        vertical-align: top;\n",
       "    }\n",
       "\n",
       "    .dataframe thead th {\n",
       "        text-align: right;\n",
       "    }\n",
       "</style>\n",
       "<table border=\"1\" class=\"dataframe\">\n",
       "  <thead>\n",
       "    <tr style=\"text-align: right;\">\n",
       "      <th></th>\n",
       "      <th>ph</th>\n",
       "      <th>Hardness</th>\n",
       "      <th>Solids</th>\n",
       "      <th>Chloramines</th>\n",
       "      <th>Sulfate</th>\n",
       "      <th>Conductivity</th>\n",
       "      <th>Organic_carbon</th>\n",
       "      <th>Trihalomethanes</th>\n",
       "      <th>Turbidity</th>\n",
       "    </tr>\n",
       "  </thead>\n",
       "  <tbody>\n",
       "    <tr>\n",
       "      <th>ph</th>\n",
       "      <td>1.000000</td>\n",
       "      <td>0.108948</td>\n",
       "      <td>-0.087615</td>\n",
       "      <td>-0.024768</td>\n",
       "      <td>0.010524</td>\n",
       "      <td>0.014128</td>\n",
       "      <td>0.028375</td>\n",
       "      <td>0.018278</td>\n",
       "      <td>-0.035849</td>\n",
       "    </tr>\n",
       "    <tr>\n",
       "      <th>Hardness</th>\n",
       "      <td>0.108948</td>\n",
       "      <td>1.000000</td>\n",
       "      <td>-0.053269</td>\n",
       "      <td>-0.022685</td>\n",
       "      <td>-0.108521</td>\n",
       "      <td>0.011731</td>\n",
       "      <td>0.013224</td>\n",
       "      <td>-0.015400</td>\n",
       "      <td>-0.034831</td>\n",
       "    </tr>\n",
       "    <tr>\n",
       "      <th>Solids</th>\n",
       "      <td>-0.087615</td>\n",
       "      <td>-0.053269</td>\n",
       "      <td>1.000000</td>\n",
       "      <td>-0.051789</td>\n",
       "      <td>-0.162769</td>\n",
       "      <td>-0.005198</td>\n",
       "      <td>-0.005484</td>\n",
       "      <td>-0.015668</td>\n",
       "      <td>0.019409</td>\n",
       "    </tr>\n",
       "    <tr>\n",
       "      <th>Chloramines</th>\n",
       "      <td>-0.024768</td>\n",
       "      <td>-0.022685</td>\n",
       "      <td>-0.051789</td>\n",
       "      <td>1.000000</td>\n",
       "      <td>0.006254</td>\n",
       "      <td>-0.028277</td>\n",
       "      <td>-0.023808</td>\n",
       "      <td>0.014990</td>\n",
       "      <td>0.013137</td>\n",
       "    </tr>\n",
       "    <tr>\n",
       "      <th>Sulfate</th>\n",
       "      <td>0.010524</td>\n",
       "      <td>-0.108521</td>\n",
       "      <td>-0.162769</td>\n",
       "      <td>0.006254</td>\n",
       "      <td>1.000000</td>\n",
       "      <td>-0.016192</td>\n",
       "      <td>0.026776</td>\n",
       "      <td>-0.023347</td>\n",
       "      <td>-0.009934</td>\n",
       "    </tr>\n",
       "    <tr>\n",
       "      <th>Conductivity</th>\n",
       "      <td>0.014128</td>\n",
       "      <td>0.011731</td>\n",
       "      <td>-0.005198</td>\n",
       "      <td>-0.028277</td>\n",
       "      <td>-0.016192</td>\n",
       "      <td>1.000000</td>\n",
       "      <td>0.015647</td>\n",
       "      <td>0.004888</td>\n",
       "      <td>0.012495</td>\n",
       "    </tr>\n",
       "    <tr>\n",
       "      <th>Organic_carbon</th>\n",
       "      <td>0.028375</td>\n",
       "      <td>0.013224</td>\n",
       "      <td>-0.005484</td>\n",
       "      <td>-0.023808</td>\n",
       "      <td>0.026776</td>\n",
       "      <td>0.015647</td>\n",
       "      <td>1.000000</td>\n",
       "      <td>-0.005667</td>\n",
       "      <td>-0.015428</td>\n",
       "    </tr>\n",
       "    <tr>\n",
       "      <th>Trihalomethanes</th>\n",
       "      <td>0.018278</td>\n",
       "      <td>-0.015400</td>\n",
       "      <td>-0.015668</td>\n",
       "      <td>0.014990</td>\n",
       "      <td>-0.023347</td>\n",
       "      <td>0.004888</td>\n",
       "      <td>-0.005667</td>\n",
       "      <td>1.000000</td>\n",
       "      <td>-0.020497</td>\n",
       "    </tr>\n",
       "    <tr>\n",
       "      <th>Turbidity</th>\n",
       "      <td>-0.035849</td>\n",
       "      <td>-0.034831</td>\n",
       "      <td>0.019409</td>\n",
       "      <td>0.013137</td>\n",
       "      <td>-0.009934</td>\n",
       "      <td>0.012495</td>\n",
       "      <td>-0.015428</td>\n",
       "      <td>-0.020497</td>\n",
       "      <td>1.000000</td>\n",
       "    </tr>\n",
       "  </tbody>\n",
       "</table>\n",
       "</div>"
      ],
      "text/plain": [
       "                       ph  Hardness    Solids  Chloramines   Sulfate  \\\n",
       "ph               1.000000  0.108948 -0.087615    -0.024768  0.010524   \n",
       "Hardness         0.108948  1.000000 -0.053269    -0.022685 -0.108521   \n",
       "Solids          -0.087615 -0.053269  1.000000    -0.051789 -0.162769   \n",
       "Chloramines     -0.024768 -0.022685 -0.051789     1.000000  0.006254   \n",
       "Sulfate          0.010524 -0.108521 -0.162769     0.006254  1.000000   \n",
       "Conductivity     0.014128  0.011731 -0.005198    -0.028277 -0.016192   \n",
       "Organic_carbon   0.028375  0.013224 -0.005484    -0.023808  0.026776   \n",
       "Trihalomethanes  0.018278 -0.015400 -0.015668     0.014990 -0.023347   \n",
       "Turbidity       -0.035849 -0.034831  0.019409     0.013137 -0.009934   \n",
       "\n",
       "                 Conductivity  Organic_carbon  Trihalomethanes  Turbidity  \n",
       "ph                   0.014128        0.028375         0.018278  -0.035849  \n",
       "Hardness             0.011731        0.013224        -0.015400  -0.034831  \n",
       "Solids              -0.005198       -0.005484        -0.015668   0.019409  \n",
       "Chloramines         -0.028277       -0.023808         0.014990   0.013137  \n",
       "Sulfate             -0.016192        0.026776        -0.023347  -0.009934  \n",
       "Conductivity         1.000000        0.015647         0.004888   0.012495  \n",
       "Organic_carbon       0.015647        1.000000        -0.005667  -0.015428  \n",
       "Trihalomethanes      0.004888       -0.005667         1.000000  -0.020497  \n",
       "Turbidity            0.012495       -0.015428        -0.020497   1.000000  "
      ]
     },
     "execution_count": 8,
     "metadata": {},
     "output_type": "execute_result"
    }
   ],
   "source": [
    "corrmatrix = data.corr()\n",
    "corrmatrix"
   ]
  },
  {
   "cell_type": "code",
   "execution_count": 10,
   "id": "f48a92b7",
   "metadata": {},
   "outputs": [
    {
     "data": {
      "text/plain": [
       "<AxesSubplot:>"
      ]
     },
     "execution_count": 10,
     "metadata": {},
     "output_type": "execute_result"
    },
    {
     "data": {
      "image/png": "[encoded data removed]",
      "text/plain": [
       "<Figure size 1152x576 with 2 Axes>"
      ]
     },
     "metadata": {
      "needs_background": "light"
     },
     "output_type": "display_data"
    }
   ],
   "source": [
    "corrmatrix = data.corr()\n",
    "plt.subplots(figsize=(16,8))\n",
    "sns.heatmap(corrmatrix, vmin=-0.5, vmax=.5, annot =True, linewidth = 0.2, cmap='BuPu')"
   ]
  },
  {
   "cell_type": "markdown",
   "id": "64e37f3a",
   "metadata": {},
   "source": [
    "Inferences\n",
    "\n",
    "1. There is no strong correlation between any of the variables\n",
    "2. Considering the ph and Chloramines the correlation value is -0.025, which is negative and too weak, thus we cannot establish any significant relation\n",
    "3. Considering the ph and Conductivity the correlation value is 0.014, which is positive and too weak, thus we cannot establish any significant relation"
   ]
  },
  {
   "cell_type": "code",
   "execution_count": null,
   "id": "07e73d84",
   "metadata": {},
   "outputs": [],
   "source": []
  }
 ],
 "metadata": {
  "kernelspec": {
   "display_name": "Python 3 (ipykernel)",
   "language": "python",
   "name": "python3"
  },
  "language_info": {
   "codemirror_mode": {
    "name": "ipython",
    "version": 3
   },
   "file_extension": ".py",
   "mimetype": "text/x-python",
   "name": "python",
   "nbconvert_exporter": "python",
   "pygments_lexer": "ipython3",
   "version": "3.9.7"
  }
 },
 "nbformat": 4,
 "nbformat_minor": 5
}
