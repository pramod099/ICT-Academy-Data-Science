{
 "cells": [
  {
   "cell_type": "code",
   "execution_count": 1,
   "id": "56223795",
   "metadata": {},
   "outputs": [],
   "source": [
    "#Import necessary libraries\n",
    "import pandas as pd\n",
    "import numpy as np\n",
    "from scipy.stats import ttest_ind"
   ]
  },
  {
   "cell_type": "code",
   "execution_count": 2,
   "id": "960e2889",
   "metadata": {},
   "outputs": [
    {
     "name": "stdout",
     "output_type": "stream",
     "text": [
      "    Gender Test preparation  Total Marks\n",
      "0     male             none           14\n",
      "1   female             none           28\n",
      "2   female             none           18\n",
      "3   female             none           48\n",
      "4   female             none           21\n",
      "5   female        completed           40\n",
      "6     male             none           30\n",
      "7   female             none           12\n",
      "8     male             none           18\n",
      "9     male             none           24\n",
      "10    male        completed           44\n",
      "11    male             none           23\n",
      "12    male        completed           43\n",
      "13    male             none           28\n",
      "14  female             none           41\n",
      "15  female             none           13\n",
      "16  female        completed           48\n",
      "17  female             none           45\n",
      "18    male             none           47\n",
      "19    male             none           36\n",
      "20    male             none           14\n",
      "21    male        completed           44\n",
      "22  female             none           41\n",
      "23  female             none           27\n",
      "24  female             none           27\n",
      "25  female             none           38\n",
      "26  female        completed           50\n",
      "27  female        completed           43\n"
     ]
    }
   ],
   "source": [
    "data = pd.read_csv (\"dataset w7.csv\")\n",
    "print(data)"
   ]
  },
  {
   "cell_type": "code",
   "execution_count": 3,
   "id": "b89f145f",
   "metadata": {},
   "outputs": [
    {
     "data": {
      "text/plain": [
       "Gender              0\n",
       "Test preparation    0\n",
       "Total Marks         0\n",
       "dtype: int64"
      ]
     },
     "execution_count": 3,
     "metadata": {},
     "output_type": "execute_result"
    }
   ],
   "source": [
    "#Check for Null values\n",
    "data.isnull().sum()"
   ]
  },
  {
   "cell_type": "markdown",
   "id": "bcabb977",
   "metadata": {},
   "source": [
    "### 1. Carry out descriptive analytics on the dataset."
   ]
  },
  {
   "cell_type": "code",
   "execution_count": 4,
   "id": "b694bf26",
   "metadata": {},
   "outputs": [
    {
     "data": {
      "text/plain": [
       "female    16\n",
       "male      12\n",
       "Name: Gender, dtype: int64"
      ]
     },
     "execution_count": 4,
     "metadata": {},
     "output_type": "execute_result"
    }
   ],
   "source": [
    "data['Gender'].value_counts()"
   ]
  },
  {
   "cell_type": "code",
   "execution_count": 5,
   "id": "8a80bfc3",
   "metadata": {},
   "outputs": [
    {
     "data": {
      "text/plain": [
       "count    28.000000\n",
       "mean     32.321429\n",
       "std      12.454520\n",
       "min      12.000000\n",
       "25%      22.500000\n",
       "50%      33.000000\n",
       "75%      43.250000\n",
       "max      50.000000\n",
       "Name: Total Marks, dtype: float64"
      ]
     },
     "execution_count": 5,
     "metadata": {},
     "output_type": "execute_result"
    }
   ],
   "source": [
    "data[('Total Marks')].describe()"
   ]
  },
  {
   "cell_type": "code",
   "execution_count": 6,
   "id": "45ec6637",
   "metadata": {},
   "outputs": [
    {
     "data": {
      "text/plain": [
       "count       28\n",
       "unique       2\n",
       "top       none\n",
       "freq        21\n",
       "Name: Test preparation, dtype: object"
      ]
     },
     "execution_count": 6,
     "metadata": {},
     "output_type": "execute_result"
    }
   ],
   "source": [
    "data[('Test preparation')].describe()"
   ]
  },
  {
   "cell_type": "code",
   "execution_count": 7,
   "id": "f17f3620",
   "metadata": {},
   "outputs": [
    {
     "data": {
      "text/plain": [
       "Gender  Test preparation\n",
       "female  none                12\n",
       "        completed            4\n",
       "male    none                 9\n",
       "        completed            3\n",
       "Name: Test preparation, dtype: int64"
      ]
     },
     "execution_count": 7,
     "metadata": {},
     "output_type": "execute_result"
    }
   ],
   "source": [
    "data.groupby('Gender')['Test preparation'].value_counts()"
   ]
  },
  {
   "cell_type": "code",
   "execution_count": 8,
   "id": "556dd481",
   "metadata": {},
   "outputs": [
    {
     "data": {
      "text/plain": [
       "Gender\n",
       "female    33.750000\n",
       "male      30.416667\n",
       "Name: Total Marks, dtype: float64"
      ]
     },
     "execution_count": 8,
     "metadata": {},
     "output_type": "execute_result"
    }
   ],
   "source": [
    "data.groupby('Gender')['Total Marks'].mean()"
   ]
  },
  {
   "cell_type": "code",
   "execution_count": 9,
   "id": "f5b774e5",
   "metadata": {},
   "outputs": [
    {
     "data": {
      "text/plain": [
       "Test preparation\n",
       "completed    44.571429\n",
       "none         28.238095\n",
       "Name: Total Marks, dtype: float64"
      ]
     },
     "execution_count": 9,
     "metadata": {},
     "output_type": "execute_result"
    }
   ],
   "source": [
    "data.groupby('Test preparation')['Total Marks'].mean()"
   ]
  },
  {
   "cell_type": "markdown",
   "id": "d1c79aca",
   "metadata": {},
   "source": [
    "#### Inferences\n",
    "\n",
    "1. There are 28 samples and no null values.\n",
    "2. 12 male and 16 female\n",
    "3. The mean, minimum and maximum score of the total marks are 32.321429, 12 and 50 respectively\n",
    "4. 12 females and 9 males didn't attend the test preparation whereas 4 females and 3 males\n",
    "5. The average total marks for females(33.75) are greater than males(30.41)\n",
    "6. The average total marks for those who completed test preparation(44.57) are greater than for those who didn't attend the test preparation(28.23)\n"
   ]
  },
  {
   "cell_type": "markdown",
   "id": "106f9a91",
   "metadata": {},
   "source": [
    "### 2. Check whether female and male students scored the same marks."
   ]
  },
  {
   "cell_type": "markdown",
   "id": "efeb7399",
   "metadata": {},
   "source": [
    "   \n",
    "H0: Female and Male students scored same marks.\n",
    "\n",
    "Ha: Female and Male students doesn't score same marks."
   ]
  },
  {
   "cell_type": "code",
   "execution_count": 10,
   "id": "6fa38148",
   "metadata": {},
   "outputs": [
    {
     "name": "stdout",
     "output_type": "stream",
     "text": [
      "t-score: [-0.69408853]  p-value: [0.49378223]\n"
     ]
    }
   ],
   "source": [
    "maleMarks = data[data[\"Gender\"] == \"male\"][[\"Total Marks\"]]\n",
    "femaleMarks = data[data[\"Gender\"] == \"female\"][[\"Total Marks\"]]\n",
    "\n",
    "t_score,p_value = ttest_ind(maleMarks,femaleMarks)\n",
    "print('t-score:', t_score, ' p-value:', p_value)"
   ]
  },
  {
   "cell_type": "markdown",
   "id": "f1e2ffce",
   "metadata": {},
   "source": [
    "#### Inference\n",
    "\n",
    "As p-value (0.49378223) is greater than alpha (0.05), we failed to reject null hypothesis(H0) and reject alternate hypothesis(Ha).\n",
    "\n",
    "As per the hypothesis testing, we can conclude that there is not much significant difference in marks based on gender"
   ]
  },
  {
   "cell_type": "markdown",
   "id": "bbc50713",
   "metadata": {},
   "source": [
    "### 3. Whether test preparation helps the students?"
   ]
  },
  {
   "cell_type": "markdown",
   "id": "d3b6d642",
   "metadata": {},
   "source": [
    "\n",
    "H0: There is no significant difference between the scores of students who completed test preparation than who didn't attend the test preparation.\n",
    "\n",
    "Ha: There is a significant difference between the scores of students who completed test preparation than who didn't attend the test preparation."
   ]
  },
  {
   "cell_type": "code",
   "execution_count": 11,
   "id": "c2ec9fdd",
   "metadata": {},
   "outputs": [
    {
     "name": "stdout",
     "output_type": "stream",
     "text": [
      "t-score: [3.61436375]  p-value: [0.00126713]\n"
     ]
    }
   ],
   "source": [
    "completedMarks = data[data[\"Test preparation\"]==\"completed\"][[\"Total Marks\"]]\n",
    "noneMarks = data[data['Test preparation']==\"none\"][[\"Total Marks\"]]\n",
    "\n",
    "t_score_1,p_value_1 = ttest_ind(completedMarks,noneMarks)\n",
    "print('t-score:', t_score_1, ' p-value:', p_value_1)\n"
   ]
  },
  {
   "cell_type": "markdown",
   "id": "aec9fd0a",
   "metadata": {},
   "source": [
    "#### Inference\n",
    "\n",
    "As p-value(0.00126713) is less than alpha(0.05), we reject the null hypothesis(H0) and failed to reject the alternate hypothesis(Ha)\n",
    "\n",
    "Students who have completed test preparations scored higher than those who didn't attend the test preparations. Therefore, we conclude that the test preparation significantly helped the students."
   ]
  }
 ],
 "metadata": {
  "kernelspec": {
   "display_name": "Python 3 (ipykernel)",
   "language": "python",
   "name": "python3"
  },
  "language_info": {
   "codemirror_mode": {
    "name": "ipython",
    "version": 3
   },
   "file_extension": ".py",
   "mimetype": "text/x-python",
   "name": "python",
   "nbconvert_exporter": "python",
   "pygments_lexer": "ipython3",
   "version": "3.9.7"
  }
 },
 "nbformat": 4,
 "nbformat_minor": 5
}
